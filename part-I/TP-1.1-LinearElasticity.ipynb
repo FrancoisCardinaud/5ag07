{
 "cells": [
  {
   "cell_type": "markdown",
   "metadata": {},
   "source": [
    "# Linear elasticity"
   ]
  },
  {
   "cell_type": "markdown",
   "metadata": {},
   "source": [
    "## Review of the formulation"
   ]
  },
  {
   "cell_type": "markdown",
   "metadata": {},
   "source": [
    "Linear elastic bodies are caracterized by a quadratic strain energy density function \n",
    "\n",
    "$$w(\\varepsilon)=\\frac{1}{2} \\mathbb{C} \\,(\\varepsilon-\\varepsilon_0)\\cdot (\\varepsilon-\\varepsilon_0)$$\n",
    "where\n",
    "\n",
    "-  $\\varepsilon$ is the second order (symmetric) strain tensor\n",
    "- $\\varepsilon_0$ is the inelastic strain (e.g. for thermal strain in isotropic materials $\\varepsilon_0=-\\alpha \\Delta T$\n",
    "- $\\mathbb{C}$ is the forth order elastic tensor.\n",
    "\n",
    "The (symmetric) stress tensor is defined as \n",
    "$$\n",
    "\\sigma(\\varepsilon) = \\dfrac{\\partial w(\\varepsilon)}{\\partial \\varepsilon}\n",
    "$$\n",
    "For isotropic materials denoting by $\\lambda$ and $\\mu$ are the Lamé moduli.\n",
    "\n",
    "$$\n",
    "w(\\varepsilon) = \\frac{\\lambda}{2} (\\mathrm{tr}(\\varepsilon-\\varepsilon_0))^2+\\mu \\Vert\\varepsilon-\\varepsilon_0\\Vert^2, \n",
    "\\qquad \n",
    "\\sigma(\\varepsilon)={\\lambda}\\,\\mathrm{tr}(\\varepsilon-\\varepsilon_0)+2\\mu (\\varepsilon-\\varepsilon_0)\n",
    "$$\n",
    "\n",
    "The strain is given in therm of the displacement by $$ \\varepsilon(u)=\\mathrm{sym}(\\nabla u)=\\dfrac{\\nabla u+\\nabla u^T}{2}$$\n",
    "Note that here $u,v$ are vector fields in $\\mathcal R^2$ or $\\mathcal R^3$."
   ]
  },
  {
   "cell_type": "markdown",
   "metadata": {},
   "source": [
    "Considering a body $\\Omega$ submitted to body forces $b$ surface, traction $f$ on $\\partial_f \\Omega$, applied displacements $\\bar u$ on $\\partial_u\\Omega$, and inelastic strain $\\varepsilon_0$, the  weak formulation is: \n",
    "\n",
    "Find a *trial function* $u\\in V$, $u=\\bar u$ on $\\partial_u\\Omega$, such that for each *test function* in $v\\in V$, $v=0$ on $\\partial_u\\Omega$: \n",
    "\n",
    "$$\n",
    "a(u,v) = l(v)\n",
    "$$\n",
    "where \n",
    "$$a(u,v)=\\int_\\Omega \\sigma(\\varepsilon(u))\\cdot \\varepsilon(v)\\,\\mathrm{d}x, \\quad \\ell(v)=\\int_\\Omega b\\cdot v\\, \\mathrm{d}x+\\int_{\\partial_f \\Omega} f\\cdot v$$"
   ]
  },
  {
   "cell_type": "markdown",
   "metadata": {},
   "source": [
    "**Exercices:**\n",
    "\n",
    "1. Show that the weak formulation above coincides with the stationarity condition of the following minimization problem for the potential energy $\\mathcal E(u)$\n",
    "$$\n",
    "\\min_{u\\in V, \\, u=\\bar u \\text{ on } \\partial_u\\Omega}\\mathcal E(u),\\qquad \\mathcal E(u)=\\dfrac{1}{2}a(u,u) - l(u)\n",
    "$$\n",
    "2. Show that the weak formulation above is equivalent to the classical equation of linear elasticity in the strong form with the associated Dirichlet et Neumann boundary conditions\n",
    "3. Show by dimensional analysis that, without loss of generality, one can set, up to a rescaling of the variables, $L:=\\vert\\Omega\\vert=1$ and $\\lambda=1$ when performing numerical computations"
   ]
  },
  {
   "cell_type": "markdown",
   "metadata": {},
   "source": [
    "## Finite element solution (with FEniCS)"
   ]
  },
  {
   "cell_type": "markdown",
   "metadata": {},
   "source": [
    "We will solve now the classical problem of the traction of plate with a hole (in plane-strain)"
   ]
  },
  {
   "cell_type": "markdown",
   "metadata": {},
   "source": [
    "From now on I will import fenics in the main namespace"
   ]
  },
  {
   "cell_type": "code",
   "execution_count": 3,
   "metadata": {},
   "outputs": [],
   "source": [
    "import dolfin as df\n",
    "import numpy as np\n",
    "import matplotlib.pyplot as plt\n",
    "import ufl\n",
    "%matplotlib inline"
   ]
  },
  {
   "cell_type": "markdown",
   "metadata": {},
   "source": [
    "### Mesh "
   ]
  },
  {
   "cell_type": "code",
   "execution_count": 16,
   "metadata": {},
   "outputs": [
    {
     "data": {
      "text/plain": [
       "[<matplotlib.lines.Line2D at 0x7fb1940585f8>,\n",
       " <matplotlib.lines.Line2D at 0x7fb194058748>]"
      ]
     },
     "execution_count": 16,
     "metadata": {},
     "output_type": "execute_result"
    },
    {
     "data": {
      "image/png": "[encoded data removed]",
      "text/plain": [
       "<Figure size 432x288 with 1 Axes>"
      ]
     },
     "metadata": {
      "needs_background": "light"
     },
     "output_type": "display_data"
    }
   ],
   "source": [
    "xmin, xmax = 0, 10.\n",
    "ymin, ymax = -1., 1.\n",
    "n = 20\n",
    "p1 = df.Point(xmin, ymin)\n",
    "p2 = df.Point(xmax, ymax)\n",
    "mesh = df.RectangleMesh(p1,p2,10*n,2*n)\n",
    "df.plot(mesh)"
   ]
  },
  {
   "cell_type": "markdown",
   "metadata": {},
   "source": [
    "### Function space"
   ]
  },
  {
   "cell_type": "code",
   "execution_count": 17,
   "metadata": {},
   "outputs": [],
   "source": [
    "element = df.VectorElement(\"P\", df.triangle, degree = 1)\n",
    "# Create function space\n",
    "V = df.FunctionSpace(mesh, element)\n",
    "# Create test and trial functions, and source term\n",
    "u = df.TrialFunction(V)\n",
    "v = df.TestFunction(V)"
   ]
  },
  {
   "cell_type": "markdown",
   "metadata": {},
   "source": [
    "### BCs "
   ]
  },
  {
   "cell_type": "code",
   "execution_count": 18,
   "metadata": {},
   "outputs": [],
   "source": [
    "bc_left = df.DirichletBC(V, (0.,0.), \"near(x[0],%s,1.e-5)\"%xmin)\n",
    "bcs = [bc_left]"
   ]
  },
  {
   "cell_type": "markdown",
   "metadata": {},
   "source": [
    "###  Variational formulation"
   ]
  },
  {
   "cell_type": "markdown",
   "metadata": {},
   "source": [
    "Define the constitutive parameters, strain and stress tensors"
   ]
  },
  {
   "cell_type": "code",
   "execution_count": 19,
   "metadata": {},
   "outputs": [],
   "source": [
    "# Bulk load \n",
    "body_force = df.Constant((1.,0.))\n",
    "# Elasticity parameters\n",
    "E, nu = df.Constant(100), df.Constant(0.3)\n",
    "mu, lmbda = E/(2*(1.0 + nu)), E*nu/((1.0 + nu)*(1.0 -2.0*nu))\n",
    "\n",
    "def eps(u):\n",
    "    \"\"\"strain tensor\"\"\"\n",
    "    return ufl.sym(ufl.grad(u))\n",
    "\n",
    "def sigma(epsilon):\n",
    "    \"\"\"stress tensor\"\"\"\n",
    "    return  2*mu*epsilon + lmbda*ufl.tr(epsilon)* ufl.Identity(2)"
   ]
  },
  {
   "cell_type": "code",
   "execution_count": 20,
   "metadata": {},
   "outputs": [
    {
     "data": {
      "text/plain": [
       "<matplotlib.collections.PolyCollection at 0x7fb194089eb8>"
      ]
     },
     "execution_count": 20,
     "metadata": {},
     "output_type": "execute_result"
    },
    {
     "data": {
      "image/png": "[encoded data removed]",
      "text/plain": [
       "<Figure size 432x288 with 1 Axes>"
      ]
     },
     "metadata": {
      "needs_background": "light"
     },
     "output_type": "display_data"
    }
   ],
   "source": [
    "# Weak formulation\n",
    "dx = df.dx\n",
    "a = df.inner(sigma(eps(u)), eps(v))*dx \n",
    "L = df.inner(body_force,v)*dx\n",
    "\n",
    "# Set up PDE and solve\n",
    "us = df.Function(V,name=\"displacement\")\n",
    "\n",
    "A, b = df.assemble_system(a,L,bcs)\n",
    "df.solve(A,us.vector(),b,\"cg\", \"ilu\")\n",
    "# or \n",
    "# df.solve(a==L,us,bcs,solver_parameters={\"linear_solver\": \"cg\",\"preconditioner\": \"ilu\"})\n",
    "df.plot(us, mode = \"displacement\")"
   ]
  },
  {
   "cell_type": "markdown",
   "metadata": {},
   "source": [
    "### Postprocessing: stress calculation"
   ]
  },
  {
   "cell_type": "markdown",
   "metadata": {},
   "source": [
    "Define Von Mises Stress"
   ]
  },
  {
   "cell_type": "code",
   "execution_count": 21,
   "metadata": {},
   "outputs": [],
   "source": [
    "sigma_sol = sigma(eps(us))\n",
    "ndim = 2\n",
    "s = sigma_sol - (1./ndim)*ufl.tr(sigma_sol)*ufl.Identity(ndim)"
   ]
  },
  {
   "cell_type": "markdown",
   "metadata": {},
   "source": [
    "Project it on a FE function space"
   ]
  },
  {
   "cell_type": "code",
   "execution_count": 22,
   "metadata": {},
   "outputs": [
    {
     "name": "stdout",
     "output_type": "stream",
     "text": [
      "Calling FFC just-in-time (JIT) compiler, this may take some time.\n",
      "Calling FFC just-in-time (JIT) compiler, this may take some time.\n",
      "Calling FFC just-in-time (JIT) compiler, this may take some time.\n"
     ]
    },
    {
     "name": "stderr",
     "output_type": "stream",
     "text": [
      "/opt/fenics-2018.1/lib/python3.5/site-packages/ffc/uflacs/analysis/dependencies.py:61: FutureWarning: Using a non-tuple sequence for multidimensional indexing is deprecated; use `arr[tuple(seq)]` instead of `arr[seq]`. In the future this will be interpreted as an array index, `arr[np.array(seq)]`, which will result either in an error or a different result.\n",
      "  active[targets] = 1\n"
     ]
    },
    {
     "name": "stdout",
     "output_type": "stream",
     "text": [
      "Calling FFC just-in-time (JIT) compiler, this may take some time.\n"
     ]
    },
    {
     "name": "stderr",
     "output_type": "stream",
     "text": [
      "/opt/fenics-2018.1/lib/python3.5/site-packages/ffc/uflacs/analysis/dependencies.py:61: FutureWarning: Using a non-tuple sequence for multidimensional indexing is deprecated; use `arr[tuple(seq)]` instead of `arr[seq]`. In the future this will be interpreted as an array index, `arr[np.array(seq)]`, which will result either in an error or a different result.\n",
      "  active[targets] = 1\n"
     ]
    },
    {
     "data": {
      "text/plain": [
       "<matplotlib.collections.PolyCollection at 0x7fb175920438>"
      ]
     },
     "execution_count": 22,
     "metadata": {},
     "output_type": "execute_result"
    },
    {
     "data": {
      "image/png": "[encoded data removed]",
      "text/plain": [
       "<Figure size 432x288 with 1 Axes>"
      ]
     },
     "metadata": {
      "needs_background": "light"
     },
     "output_type": "display_data"
    }
   ],
   "source": [
    "stress_element = df.FiniteElement('DG', df.triangle, 0)\n",
    "S = df.FunctionSpace(mesh, stress_element)\n",
    "von_Mises = ufl.sqrt(ndim*ufl.inner(s, s))\n",
    "von_Mises_p = df.project(von_Mises, S)\n",
    "df.plot(von_Mises_p)"
   ]
  },
  {
   "cell_type": "code",
   "execution_count": 23,
   "metadata": {},
   "outputs": [
    {
     "data": {
      "text/plain": [
       "Text(0.5,0,'Von Mises stress')"
      ]
     },
     "execution_count": 23,
     "metadata": {},
     "output_type": "execute_result"
    },
    {
     "data": {
      "image/png": "[encoded data removed]",
      "text/plain": [
       "<Figure size 432x288 with 1 Axes>"
      ]
     },
     "metadata": {
      "needs_background": "light"
     },
     "output_type": "display_data"
    }
   ],
   "source": [
    "ypoints = np.linspace(ymin, ymax, 20)\n",
    "points = [[xmax/2.,y] for y in ypoints]\n",
    "values = [von_Mises_p(point) for point in points]\n",
    "plt.plot(values, ypoints, '*r')\n",
    "plt.xlim([0,10])\n",
    "plt.ylabel(\"y\")\n",
    "plt.xlabel(\"Von Mises stress\")"
   ]
  },
  {
   "cell_type": "markdown",
   "metadata": {},
   "source": [
    "# Write the result to a file\n",
    "\n",
    "You can file the file to disk and read in paraview"
   ]
  },
  {
   "cell_type": "code",
   "execution_count": 32,
   "metadata": {},
   "outputs": [],
   "source": [
    "file = df.File(\"output/u.pvd\")\n",
    "file.write(us,0)\n",
    "    \n",
    "with df.XDMFFile(mesh.mpi_comm(), \"output/u.xdmf\") as file:\n",
    "    file.write(us,  0)"
   ]
  },
  {
   "cell_type": "markdown",
   "metadata": {},
   "source": [
    "# Exercice\n",
    "\n",
    "1. Solve the problem for the case of body force (0.,1.), i.e. a horizontal beam under the effect of the gravity\n",
    "\n",
    "2. Create a function `elastic_solver`, that you can call as follows to solve the problem above:\n",
    "\n",
    "`elastic_solver(20, \"cg\", \"ilu\", df.Constant((1.,0.)))`\n"
   ]
  },
  {
   "cell_type": "code",
   "execution_count": null,
   "metadata": {},
   "outputs": [],
   "source": [
    "def elastic_solver(n_element, length, height, linear_solver, preconditioner, body_force):\n",
    "    \"\"\"\n",
    "    Return the displacement fielf u_sol given the n_elements (integer),\n",
    "    the linear_solver (string), the beam length (float) and height (float) the preconditioner (string), and the body force vector (dolfin constant))\n",
    "    \n",
    "    \"\"\"\n",
    "    return u_sol"
   ]
  },
  {
   "cell_type": "markdown",
   "metadata": {},
   "source": [
    "3. Plot the maximum deflection as a function of the mesh size  \n",
    "\n",
    "4. Compare the results for the maximum deflection as a function of the aspect ratio with the beam theory.\n",
    "\n"
   ]
  },
  {
   "cell_type": "code",
   "execution_count": null,
   "metadata": {},
   "outputs": [],
   "source": []
  }
 ],
 "metadata": {
  "kernelspec": {
   "display_name": "Python 3",
   "language": "python",
   "name": "python3"
  },
  "language_info": {
   "codemirror_mode": {
    "name": "ipython",
    "version": 3
   },
   "file_extension": ".py",
   "mimetype": "text/x-python",
   "name": "python",
   "nbconvert_exporter": "python",
   "pygments_lexer": "ipython3",
   "version": "3.5.3"
  }
 },
 "nbformat": 4,
 "nbformat_minor": 2
}
