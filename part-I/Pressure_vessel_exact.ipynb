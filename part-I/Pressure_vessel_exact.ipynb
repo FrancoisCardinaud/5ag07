{
 "cells": [
  {
   "cell_type": "markdown",
   "metadata": {},
   "source": [
    "# Pressure vessel, exact solution"
   ]
  },
  {
   "cell_type": "markdown",
   "metadata": {},
   "source": [
    "The aim of this notebook is to derive the exact solution to the problem of the *pressure vessel*."
   ]
  },
  {
   "cell_type": "markdown",
   "metadata": {},
   "source": [
    "We consider a tube (radius: $R$, wall thickness: $h$), subjected to an inner pressure $p_\\mathrm{in}$ and an outer pressure $p_\\mathrm{out}$. The tube is long enough to be in a 2D state (invariance along the $zz$ axis of revolution). For the sake of simplicity, we will assume that the tube is in plane strain equilibrium"
   ]
  },
  {
   "cell_type": "markdown",
   "metadata": {},
   "source": [
    "**Question: ** is this a reasonable assumption?"
   ]
  },
  {
   "cell_type": "markdown",
   "metadata": {},
   "source": [
    "Owing to the symmetries, the displacement is also rotation invariant about the axis of revolution. This suggests to work in cylindrical coordinates $(r, \\theta, z)$. In this basis, the components of the displacement are functions of $r$ only"
   ]
  },
  {
   "cell_type": "markdown",
   "metadata": {},
   "source": [
    "\\begin{equation}\n",
    "\\mathbf u=u_r(r)\\,\\mathbf e_r+u_\\theta(r)\\,\\mathbf e_\\theta+u_z(r)\\,\\mathbf e_z.\n",
    "\\end{equation}"
   ]
  },
  {
   "cell_type": "markdown",
   "metadata": {},
   "source": [
    "We will in fact seek a radial displacement"
   ]
  },
  {
   "cell_type": "markdown",
   "metadata": {},
   "source": [
    "\\begin{equation}\n",
    "\\mathbf u = u(r)\\,\\mathbf e_r.\n",
    "\\end{equation}"
   ]
  },
  {
   "cell_type": "markdown",
   "metadata": {},
   "source": [
    "**Question:** what is going to tell us whether or not this assumption is valid?"
   ]
  },
  {
   "cell_type": "markdown",
   "metadata": {},
   "source": [
    "## Initialization"
   ]
  },
  {
   "cell_type": "markdown",
   "metadata": {},
   "source": [
    "We use the [SymPy](https://www.sympy.org/) module, which implements a whole computer algebra system in Python."
   ]
  },
  {
   "cell_type": "code",
   "execution_count": 1,
   "metadata": {},
   "outputs": [],
   "source": [
    "import sympy"
   ]
  },
  {
   "cell_type": "code",
   "execution_count": 2,
   "metadata": {},
   "outputs": [],
   "source": [
    "sympy.init_printing(use_latex='mathjax')"
   ]
  },
  {
   "cell_type": "code",
   "execution_count": 3,
   "metadata": {},
   "outputs": [],
   "source": [
    "from sympy.abc import n, x, y, r, E, R, A, B"
   ]
  },
  {
   "cell_type": "code",
   "execution_count": 4,
   "metadata": {},
   "outputs": [],
   "source": [
    "μ, ν = sympy.symbols('mu nu')\n",
    "λ = 2*μ*ν/(1-2*ν)"
   ]
  },
  {
   "cell_type": "markdown",
   "metadata": {},
   "source": [
    "It will be convenient to introduce the following dimensionless quantity"
   ]
  },
  {
   "cell_type": "markdown",
   "metadata": {},
   "source": [
    "\\begin{equation}\n",
    "\\eta=\\frac{h}{2R}\n",
    "\\end{equation}"
   ]
  },
  {
   "cell_type": "code",
   "execution_count": 5,
   "metadata": {},
   "outputs": [],
   "source": [
    "η = sympy.Symbol('eta')\n",
    "h = 2*R*η"
   ]
  },
  {
   "cell_type": "markdown",
   "metadata": {},
   "source": [
    "As well as the mean pressure $p$ and pressure difference $\\Delta p$"
   ]
  },
  {
   "cell_type": "markdown",
   "metadata": {},
   "source": [
    "\\begin{equation}\n",
    "p = \\frac{p_\\mathrm{in}+p_\\mathrm{out}}{2}\n",
    "\\quad\\text{and}\\quad\n",
    "\\varpi = \\frac{p_\\mathrm{in}-p_\\mathrm{out}}{p},\n",
    "\\end{equation}"
   ]
  },
  {
   "cell_type": "markdown",
   "metadata": {},
   "source": [
    "such that"
   ]
  },
  {
   "cell_type": "markdown",
   "metadata": {},
   "source": [
    "\\begin{equation}\n",
    "p_\\mathrm{in} = p\\bigl(1+\\frac{\\varpi}{2}\\bigr)\n",
    "\\quad\\text{and}\\quad\n",
    "p_\\mathrm{out} = p\\bigl(1-\\frac{\\varpi}{2}\\bigr).\n",
    "\\end{equation}"
   ]
  },
  {
   "cell_type": "code",
   "execution_count": 6,
   "metadata": {},
   "outputs": [],
   "source": [
    "from sympy.abc import p\n",
    "ϖ = sympy.Symbol('varpi')\n",
    "p_in = p*(1+ϖ/2)\n",
    "p_out = p*(1-ϖ/2)"
   ]
  },
  {
   "cell_type": "markdown",
   "metadata": {},
   "source": [
    "## General form of the radial displacement"
   ]
  },
  {
   "cell_type": "code",
   "execution_count": 7,
   "metadata": {},
   "outputs": [],
   "source": [
    "u = sympy.Function('u')(r)"
   ]
  },
  {
   "cell_type": "markdown",
   "metadata": {},
   "source": [
    "The only non-vanishing components of the strain tensor $\\boldsymbol\\varepsilon$ are"
   ]
  },
  {
   "cell_type": "markdown",
   "metadata": {},
   "source": [
    "\\begin{equation}\n",
    "\\varepsilon_{rr}=u',\\quad\\text{and}\\quad\\varepsilon_{\\theta\\theta}=\\frac ur,\n",
    "\\end{equation}"
   ]
  },
  {
   "cell_type": "markdown",
   "metadata": {},
   "source": [
    "where $'$ refers to derivation with respect to $r$."
   ]
  },
  {
   "cell_type": "code",
   "execution_count": 8,
   "metadata": {},
   "outputs": [],
   "source": [
    "ε_rr = u.diff(r)\n",
    "ε_θθ = u/r\n",
    "tr_ε = ε_rr + ε_θθ"
   ]
  },
  {
   "cell_type": "markdown",
   "metadata": {},
   "source": [
    "The stresses $\\boldsymbol\\sigma$ are deduced from Hooke's law (plane strain)."
   ]
  },
  {
   "cell_type": "code",
   "execution_count": 9,
   "metadata": {},
   "outputs": [],
   "source": [
    "σ_rr = λ*tr_ε + 2*μ*ε_rr\n",
    "σ_θθ = λ*tr_ε + 2*μ*ε_θθ"
   ]
  },
  {
   "cell_type": "markdown",
   "metadata": {},
   "source": [
    "The equilibrium equation reduces to"
   ]
  },
  {
   "cell_type": "markdown",
   "metadata": {},
   "source": [
    "\\begin{equation}\n",
    "\\sigma_{rr}'+\\frac{\\sigma_{rr}-\\sigma_{\\theta\\theta}}r=0\n",
    "\\end{equation}"
   ]
  },
  {
   "cell_type": "code",
   "execution_count": 10,
   "metadata": {},
   "outputs": [
    {
     "data": {
      "text/latex": [
       "$$- \\frac{2 \\mu \\nu u{\\left (r \\right )}}{- 2 \\nu r^{2} + r^{2}} + \\frac{2 \\mu \\nu \\frac{d}{d r} u{\\left (r \\right )}}{- 2 \\nu r + r} + \\frac{2 \\mu \\nu \\frac{d^{2}}{d r^{2}}  u{\\left (r \\right )}}{- 2 \\nu + 1} + 2 \\mu \\frac{d^{2}}{d r^{2}}  u{\\left (r \\right )} + \\frac{2 \\mu}{r} \\frac{d}{d r} u{\\left (r \\right )} - \\frac{2 \\mu}{r^{2}} u{\\left (r \\right )} = 0$$"
      ],
      "text/plain": [
       "                                           2                                  \n",
       "                                          d                                   \n",
       "                        d          2⋅μ⋅ν⋅───(u(r))                       d    \n",
       "                  2⋅μ⋅ν⋅──(u(r))           2               2         2⋅μ⋅──(u(\n",
       "    2⋅μ⋅ν⋅u(r)          dr               dr               d              dr   \n",
       "- ───────────── + ────────────── + ─────────────── + 2⋅μ⋅───(u(r)) + ─────────\n",
       "         2    2     -2⋅ν⋅r + r         -2⋅ν + 1            2              r   \n",
       "  - 2⋅ν⋅r  + r                                           dr                   \n",
       "\n",
       "                  \n",
       "                  \n",
       "                  \n",
       "r))               \n",
       "      2⋅μ⋅u(r)    \n",
       "─── - ──────── = 0\n",
       "          2       \n",
       "         r        "
      ]
     },
     "execution_count": 10,
     "metadata": {},
     "output_type": "execute_result"
    }
   ],
   "source": [
    "lhs = σ_rr.diff(r) + (σ_rr-σ_θθ)/r\n",
    "eq1 = sympy.Equality(lhs.expand(), 0)\n",
    "eq1"
   ]
  },
  {
   "cell_type": "markdown",
   "metadata": {},
   "source": [
    "We seek a solution of the form $u(r)=r^n$."
   ]
  },
  {
   "cell_type": "code",
   "execution_count": 11,
   "metadata": {},
   "outputs": [
    {
     "data": {
      "text/latex": [
       "$$\\frac{2 \\mu r^{n}}{r^{2} \\left(2 \\nu - 1\\right)} \\left(n - 1\\right) \\left(n + 1\\right) \\left(\\nu - 1\\right) = 0$$"
      ],
      "text/plain": [
       "     n                            \n",
       "2⋅μ⋅r ⋅(n - 1)⋅(n + 1)⋅(ν - 1)    \n",
       "────────────────────────────── = 0\n",
       "          2                       \n",
       "         r ⋅(2⋅ν - 1)             "
      ]
     },
     "execution_count": 11,
     "metadata": {},
     "output_type": "execute_result"
    }
   ],
   "source": [
    "eq2 = eq1.subs(u, r**n).doit()\n",
    "eq2.factor()"
   ]
  },
  {
   "cell_type": "markdown",
   "metadata": {},
   "source": [
    "Which results in $n=\\pm 1$. In other words"
   ]
  },
  {
   "cell_type": "markdown",
   "metadata": {},
   "source": [
    "\\begin{equation}\n",
    "u(r) = Ar+\\frac{B}r,\n",
    "\\end{equation}"
   ]
  },
  {
   "cell_type": "markdown",
   "metadata": {},
   "source": [
    "where $A$ and $B$ are two integration constants which are found from the boundary conditions at $r=R\\pm h/2$."
   ]
  },
  {
   "cell_type": "markdown",
   "metadata": {},
   "source": [
    "## Determination of the integration constants"
   ]
  },
  {
   "cell_type": "code",
   "execution_count": 12,
   "metadata": {},
   "outputs": [],
   "source": [
    "def subs_u_sol(expr):\n",
    "    return expr.subs(u, u_sol).doit().expand().collect(r, func=sympy.factor)"
   ]
  },
  {
   "cell_type": "code",
   "execution_count": 13,
   "metadata": {},
   "outputs": [],
   "source": [
    "u_sol = A*r+B/r"
   ]
  },
  {
   "cell_type": "code",
   "execution_count": 14,
   "metadata": {},
   "outputs": [],
   "source": [
    "ε_rr_sol = subs_u_sol(ε_rr)\n",
    "ε_θθ_sol = subs_u_sol(ε_θθ)\n",
    "σ_rr_sol = subs_u_sol(σ_rr)\n",
    "σ_θθ_sol = subs_u_sol(σ_θθ)"
   ]
  },
  {
   "cell_type": "code",
   "execution_count": 15,
   "metadata": {},
   "outputs": [
    {
     "data": {
      "text/latex": [
       "$$- \\frac{2 A \\mu}{2 \\nu - 1} - \\frac{2 B}{r^{2}} \\mu$$"
      ],
      "text/plain": [
       "   2⋅A⋅μ    2⋅B⋅μ\n",
       "- ─────── - ─────\n",
       "  2⋅ν - 1      2 \n",
       "              r  "
      ]
     },
     "execution_count": 15,
     "metadata": {},
     "output_type": "execute_result"
    }
   ],
   "source": [
    "σ_rr_sol"
   ]
  },
  {
   "cell_type": "markdown",
   "metadata": {},
   "source": [
    "At $r=R-h/2$, the boundary condition reads $\\sigma_{rr}=-p_\\mathrm{in}$."
   ]
  },
  {
   "cell_type": "code",
   "execution_count": 16,
   "metadata": {},
   "outputs": [],
   "source": [
    "eq3 = sympy.Equality(σ_rr_sol.subs(r, R-h/2), -p_in)"
   ]
  },
  {
   "cell_type": "markdown",
   "metadata": {},
   "source": [
    "At $r=R+h/2$, the boundary condition reads $\\sigma_{rr}=-p_\\mathrm{out}$."
   ]
  },
  {
   "cell_type": "code",
   "execution_count": 17,
   "metadata": {},
   "outputs": [],
   "source": [
    "eq4 = sympy.Equality(σ_rr_sol.subs(r, R+h/2), -p_out)"
   ]
  },
  {
   "cell_type": "markdown",
   "metadata": {},
   "source": [
    "The integration constants follow."
   ]
  },
  {
   "cell_type": "code",
   "execution_count": 18,
   "metadata": {},
   "outputs": [
    {
     "data": {
      "text/latex": [
       "$$\\left \\{ A : - \\frac{p}{8 \\eta \\mu} \\left(2 \\eta^{2} \\nu \\varpi - \\eta^{2} \\varpi - 8 \\eta \\nu + 4 \\eta + 2 \\nu \\varpi - \\varpi\\right), \\quad B : \\frac{R^{2} p \\varpi}{8 \\eta \\mu} \\left(\\eta^{4} - 2 \\eta^{2} + 1\\right)\\right \\}$$"
      ],
      "text/plain": [
       "⎧      ⎛   2            2                                        ⎞       2    \n",
       "⎪   -p⋅⎝2⋅η ⋅ν⋅varpi - η ⋅varpi - 8⋅η⋅ν + 4⋅η + 2⋅ν⋅varpi - varpi⎠      R ⋅p⋅v\n",
       "⎨A: ───────────────────────────────────────────────────────────────, B: ──────\n",
       "⎪                                8⋅η⋅μ                                        \n",
       "⎩                                                                             \n",
       "\n",
       "     ⎛ 4      2    ⎞⎫\n",
       "arpi⋅⎝η  - 2⋅η  + 1⎠⎪\n",
       "────────────────────⎬\n",
       "    8⋅η⋅μ           ⎪\n",
       "                    ⎭"
      ]
     },
     "execution_count": 18,
     "metadata": {},
     "output_type": "execute_result"
    }
   ],
   "source": [
    "sol = sympy.solve([eq3, eq4], [A, B])\n",
    "sol"
   ]
  },
  {
   "cell_type": "code",
   "execution_count": 19,
   "metadata": {},
   "outputs": [
    {
     "data": {
      "text/latex": [
       "$$A = \\frac{p}{2 \\mu} \\left(2 \\nu - 1\\right) - \\frac{p \\varpi}{8 \\eta \\mu} \\left(\\eta^{2} + 1\\right) \\left(2 \\nu - 1\\right)$$"
      ],
      "text/plain": [
       "                          ⎛ 2    ⎞          \n",
       "    p⋅(2⋅ν - 1)   p⋅varpi⋅⎝η  + 1⎠⋅(2⋅ν - 1)\n",
       "A = ─────────── - ──────────────────────────\n",
       "        2⋅μ                 8⋅η⋅μ           "
      ]
     },
     "execution_count": 19,
     "metadata": {},
     "output_type": "execute_result"
    }
   ],
   "source": [
    "A_sol = sol[A].expand().collect(ϖ, func=sympy.factor)\n",
    "sympy.Equality(A, A_sol)"
   ]
  },
  {
   "cell_type": "code",
   "execution_count": 20,
   "metadata": {},
   "outputs": [
    {
     "data": {
      "text/latex": [
       "$$B = \\frac{R^{2} p \\varpi \\left(\\eta + 1\\right)^{2}}{8 \\eta \\mu} \\left(\\eta - 1\\right)^{2}$$"
      ],
      "text/plain": [
       "     2                2        2\n",
       "    R ⋅p⋅varpi⋅(η - 1) ⋅(η + 1) \n",
       "B = ────────────────────────────\n",
       "               8⋅η⋅μ            "
      ]
     },
     "execution_count": 20,
     "metadata": {},
     "output_type": "execute_result"
    }
   ],
   "source": [
    "B_sol = sol[B].factor()\n",
    "sympy.Equality(B, B_sol)"
   ]
  }
 ],
 "metadata": {
  "kernelspec": {
   "display_name": "Python 3",
   "language": "python",
   "name": "python3"
  },
  "language_info": {
   "codemirror_mode": {
    "name": "ipython",
    "version": 3
   },
   "file_extension": ".py",
   "mimetype": "text/x-python",
   "name": "python",
   "nbconvert_exporter": "python",
   "pygments_lexer": "ipython3",
   "version": "3.6.6"
  }
 },
 "nbformat": 4,
 "nbformat_minor": 2
}
