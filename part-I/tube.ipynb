{
 "cells": [
  {
   "cell_type": "markdown",
   "metadata": {},
   "source": [
    "# Convergence analysis of finite element solutions"
   ]
  },
  {
   "cell_type": "markdown",
   "metadata": {},
   "source": [
    "This notebook draws heavily from the article [Axisymmetric formulation for elastic structures of revolution](https://comet-fenics.readthedocs.io/en/latest/demo/elasticity/axisymmetric_elasticity.html#Axisymmetric-formulation-for-elastic-structures-of-revolution) by J. Bleyer."
   ]
  },
  {
   "cell_type": "code",
   "execution_count": 1,
   "metadata": {},
   "outputs": [],
   "source": [
    "import matplotlib.pyplot as plt\n",
    "import numpy as np\n",
    "import mshr\n",
    "import dolfin\n",
    "%matplotlib inline\n",
    "plt.rcParams['figure.figsize']=(12, 8)"
   ]
  },
  {
   "cell_type": "markdown",
   "metadata": {},
   "source": [
    "## Parameters of the simulation"
   ]
  },
  {
   "cell_type": "markdown",
   "metadata": {},
   "source": [
    "The cylinder is defined by its mean radius, $R$, and its thickness $h$. In cylindrical coordinates $(r, \\theta, z)$, the domain is therefore defined by $R-h/2\\leq r\\leq R+h/2$."
   ]
  },
  {
   "cell_type": "code",
   "execution_count": 2,
   "metadata": {},
   "outputs": [],
   "source": [
    "radius = 1.\n",
    "thickness = radius/20.0"
   ]
  },
  {
   "cell_type": "markdown",
   "metadata": {},
   "source": [
    "Change the following parameter if you wish to refine the mesh."
   ]
  },
  {
   "cell_type": "code",
   "execution_count": 3,
   "metadata": {},
   "outputs": [],
   "source": [
    "element_size = thickness/5."
   ]
  },
  {
   "cell_type": "markdown",
   "metadata": {},
   "source": [
    "## Mesh generation"
   ]
  },
  {
   "cell_type": "markdown",
   "metadata": {},
   "source": [
    "The `mshr` module uses the [Constructive Geometry](https://en.wikipedia.org/wiki/Constructive_solid_geometry) paradigm. The whole cross-section of the cylinder is therefore defined as the difference of the disk with radius $(r+h/2)$ and the disk with radius $(r+h/2)$.\n",
    "\n",
    "Owing to symmetries, it is sufficient to model the upper-right quarter of the cross-section. We therefore subtract the top-left quadrant, and the rectangle made of the two lower quadrants."
   ]
  },
  {
   "cell_type": "code",
   "execution_count": 4,
   "metadata": {},
   "outputs": [
    {
     "name": "stdout",
     "output_type": "stream",
     "text": [
      "161\n"
     ]
    },
    {
     "data": {
      "image/png": "[encoded data removed]",
      "text/plain": [
       "<matplotlib.figure.Figure at 0x7fbf4d545438>"
      ]
     },
     "metadata": {},
     "output_type": "display_data"
    }
   ],
   "source": [
    "r_out = radius+0.5*thickness\n",
    "r_in = radius-0.5*thickness\n",
    "\n",
    "p0 = dolfin.Point(0., 0.)\n",
    "p1 = dolfin.Point(-r_out, r_out)\n",
    "p2 = dolfin.Point(-r_out, -r_out)\n",
    "p3 = dolfin.Point(r_out, 0)\n",
    "\n",
    "num_elements = int(2*np.pi*r_out/element_size/4)\n",
    "print(num_elements)\n",
    "\n",
    "domain = (mshr.Circle(p0, r_out,num_elements) -\n",
    "          mshr.Circle(p0, r_in,num_elements) -\n",
    "          mshr.Rectangle(p0, p1) -\n",
    "          mshr.Rectangle(p2, p3))\n",
    "mesh = mshr.generate_mesh(domain,num_elements)\n",
    "dolfin.plot(mesh);"
   ]
  },
  {
   "cell_type": "markdown",
   "metadata": {},
   "source": [
    "## Boundary indicators\n",
    "\n",
    "The machinery below is needed to mark the boundaries of the domain and selectively impose on them the boundary conditions.\n",
    "This is a delicate part of the finite element implementation, because often the 'devil is in the boundary conditions'!.\n",
    "\n",
    "We refer to the FEniCs tutorial, sec 4.4.2 and 4.4.3 for details and syntax on that. "
   ]
  },
  {
   "cell_type": "code",
   "execution_count": 5,
   "metadata": {},
   "outputs": [],
   "source": [
    "tol = 1E-14\n",
    "inner = dolfin.CompiledSubDomain('hypot(x[0], x[1]) <= r_in+tol', tol=tol, r_in=radius-0.5*thickness)\n",
    "outer = dolfin.CompiledSubDomain('hypot(x[0], x[1]) >= r_out+tol', tol=tol, r_out=radius+0.5*thickness)\n",
    "left = dolfin.CompiledSubDomain('x[0] <= tol', tol=tol)\n",
    "bottom = dolfin.CompiledSubDomain('x[1] <= tol', tol=tol)"
   ]
  },
  {
   "cell_type": "markdown",
   "metadata": {},
   "source": [
    "The following block assigns defines the function `boundary_segment` which maps the facets of the mesh to a set of indices that identify the (curvilinear) segment of the boundary to which it belongs\n",
    "\n",
    "- `1`: bottom segment ($R-h/2\\leq x\\leq R+h/2$ and $y=0$),\n",
    "- `2`: outer boundary ($r=R+h/2$),\n",
    "- `3`: left segment ($x=0$ and $R-h/2\\leq y\\leq R+h/2$),\n",
    "- `4`: inner boundary ($r=R-h/2$).\n",
    "\n",
    "The function returns `0` if the current facet does not belong to any of the above segments."
   ]
  },
  {
   "cell_type": "code",
   "execution_count": 6,
   "metadata": {},
   "outputs": [],
   "source": [
    "facets = dolfin.MeshFunction('size_t', mesh, 1)\n",
    "facets.set_all(0)\n",
    "bottom.mark(facets, 1)\n",
    "outer.mark(facets, 2)\n",
    "left.mark(facets, 3)\n",
    "inner.mark(facets, 4)"
   ]
  },
  {
   "cell_type": "markdown",
   "metadata": {},
   "source": [
    "This function is saved to a file. It can be visualized in `paraview` (to check the values)."
   ]
  },
  {
   "cell_type": "code",
   "execution_count": 7,
   "metadata": {},
   "outputs": [],
   "source": [
    "with dolfin.XDMFFile(mesh.mpi_comm(), \"output/boundaries.xdmf\") as file: \n",
    "    file.write(facets)"
   ]
  },
  {
   "cell_type": "markdown",
   "metadata": {},
   "source": [
    "## Strain-displacement operator"
   ]
  },
  {
   "cell_type": "markdown",
   "metadata": {},
   "source": [
    "In 2D elasticity, the spatial coordinates are $x=$ `x[0]` and $y=$ `x[1]`."
   ]
  },
  {
   "cell_type": "code",
   "execution_count": 8,
   "metadata": {},
   "outputs": [],
   "source": [
    "def eps(u):\n",
    "    return dolfin.sym(dolfin.grad(u))"
   ]
  },
  {
   "cell_type": "markdown",
   "metadata": {},
   "source": [
    "## Stress-strain operator"
   ]
  },
  {
   "cell_type": "markdown",
   "metadata": {},
   "source": [
    "The stress-strain operator defined below corresponds to plane strain elasticity"
   ]
  },
  {
   "cell_type": "code",
   "execution_count": 9,
   "metadata": {},
   "outputs": [],
   "source": [
    "mu = dolfin.Constant(1.0)\n",
    "nu = dolfin.Constant(0.3)\n",
    "lmbda = 2.*mu*nu/(1.-2.*nu)"
   ]
  },
  {
   "cell_type": "code",
   "execution_count": 10,
   "metadata": {},
   "outputs": [],
   "source": [
    "I2 = dolfin.Identity(2)"
   ]
  },
  {
   "cell_type": "code",
   "execution_count": 11,
   "metadata": {},
   "outputs": [],
   "source": [
    "def sig(epsilon):\n",
    "    return  2.*mu*epsilon+lmbda*dolfin.tr(epsilon)*I2"
   ]
  },
  {
   "cell_type": "markdown",
   "metadata": {},
   "source": [
    "## Variational formulation"
   ]
  },
  {
   "cell_type": "code",
   "execution_count": 12,
   "metadata": {},
   "outputs": [],
   "source": [
    "p_out = dolfin.Constant(0.)\n",
    "p_in = dolfin.Constant(1.)"
   ]
  },
  {
   "cell_type": "code",
   "execution_count": 13,
   "metadata": {},
   "outputs": [],
   "source": [
    "element = dolfin.VectorElement('P', dolfin.triangle, degree=1, dim=2)\n",
    "V = dolfin.FunctionSpace(mesh, element)\n",
    "u = dolfin.TrialFunction(V)\n",
    "v = dolfin.TestFunction(V)"
   ]
  },
  {
   "cell_type": "code",
   "execution_count": 14,
   "metadata": {},
   "outputs": [],
   "source": [
    "ds = dolfin.Measure(\"ds\", subdomain_data=facets)\n",
    "n = dolfin.FacetNormal(mesh)\n",
    "\n",
    "a = dolfin.inner(sig(eps(u)), eps(v))*dolfin.dx \n",
    "L = dolfin.inner(-p_in*n, v)*ds(4)+dolfin.inner(-p_out*n, v)*ds(2)"
   ]
  },
  {
   "cell_type": "markdown",
   "metadata": {},
   "source": [
    "## Boundary conditions"
   ]
  },
  {
   "cell_type": "markdown",
   "metadata": {},
   "source": [
    "Both $xx$ and $yy$ axes are axes of symmetry."
   ]
  },
  {
   "cell_type": "code",
   "execution_count": 15,
   "metadata": {},
   "outputs": [],
   "source": [
    "bcs = [dolfin.DirichletBC(V.sub(0), 0., left),\n",
    "       dolfin.DirichletBC(V.sub(1), 0., bottom)]"
   ]
  },
  {
   "cell_type": "code",
   "execution_count": 16,
   "metadata": {},
   "outputs": [],
   "source": [
    "u = dolfin.Function(V)\n",
    "problem = dolfin.LinearVariationalProblem(a, L, u, bcs)\n",
    "solver = dolfin.LinearVariationalSolver(problem)\n",
    "solver.solve()"
   ]
  },
  {
   "cell_type": "markdown",
   "metadata": {},
   "source": [
    "We can check (visually) that the displacement is radial."
   ]
  },
  {
   "cell_type": "code",
   "execution_count": 17,
   "metadata": {},
   "outputs": [
    {
     "data": {
      "text/plain": [
       "<matplotlib.collections.PolyCollection at 0x7fbf4d3f0898>"
      ]
     },
     "execution_count": 17,
     "metadata": {},
     "output_type": "execute_result"
    },
    {
     "data": {
      "image/png": "[encoded data removed]",
      "text/plain": [
       "<matplotlib.figure.Figure at 0x7fbf4d4eb668>"
      ]
     },
     "metadata": {},
     "output_type": "display_data"
    }
   ],
   "source": [
    "dolfin.plot(mesh)\n",
    "dolfin.plot(0.02*u, mode = \"displacement\")"
   ]
  },
  {
   "cell_type": "markdown",
   "metadata": {},
   "source": [
    "## Comparison with exact solution"
   ]
  },
  {
   "cell_type": "markdown",
   "metadata": {},
   "source": [
    "It can be shown that the exact displacement is radial ($\\mathbf{u}=u(r)\\,\\mathbf{e}_r$), with"
   ]
  },
  {
   "cell_type": "markdown",
   "metadata": {},
   "source": [
    "\\begin{equation}\n",
    "u(r)=Ar+\\frac Br, \\quad\n",
    "A = \\frac{p}{2\\mu}\\bigl(1-2\\nu\\bigr)\\Bigl[\\frac{\\varpi}{4\\eta}\\bigl(1+\\eta^2\\bigr)-1\\Bigr]\n",
    "\\quad\\text{and}\\quad\n",
    "B = \\frac{p\\varpi R^2}{8\\eta\\mu}\\bigl(1-\\eta^2\\bigl)^2,\n",
    "\\end{equation}"
   ]
  },
  {
   "cell_type": "markdown",
   "metadata": {},
   "source": [
    "where we have introduced"
   ]
  },
  {
   "cell_type": "markdown",
   "metadata": {},
   "source": [
    "\\begin{equation}\n",
    "\\eta=\\frac{h}{2R},\\quad\n",
    "p = \\frac{p_\\mathrm{in}+p_\\mathrm{out}}{2}\n",
    "\\quad\\text{and}\\quad\n",
    "\\varpi = \\frac{p_\\mathrm{in}-p_\\mathrm{out}}{p}.\n",
    "\\end{equation}"
   ]
  },
  {
   "cell_type": "markdown",
   "metadata": {},
   "source": [
    "It can readily be verified that the above expressions indeed define the solution to the problem at hand. Alternatively, [this notebook](https://gist.github.com/sbrisard/6319a81f88f2abda644074a659123955) uses symbolic computations to derive the solution."
   ]
  },
  {
   "cell_type": "markdown",
   "metadata": {},
   "source": [
    "We compare the finite element solution obtained above with the reference solution. We first compute the integration constants $A$ and $B$."
   ]
  },
  {
   "cell_type": "code",
   "execution_count": 18,
   "metadata": {},
   "outputs": [],
   "source": [
    "def valueof(const):\n",
    "    return const.values()[0]\n",
    "\n",
    "p = (valueof(p_in)+valueof(p_out))/2.\n",
    "varpi = (valueof(p_in)-valueof(p_out))/p\n",
    "eta = thickness/2/radius\n",
    "\n",
    "A = p*(1-2*valueof(nu))*(varpi/4./eta*(1+eta**2)-1)/2./valueof(mu)\n",
    "B = p*varpi*radius**2*(eta**2-1)**2/8./eta/valueof(mu)\n"
   ]
  },
  {
   "cell_type": "markdown",
   "metadata": {},
   "source": [
    "We then plot the FE solution along a line $\\theta=\\mathrm{const.}$. The purpose of `atol` defined below is to avoid error messages, by making the line a little bit shorter than the thickness of the shell."
   ]
  },
  {
   "cell_type": "code",
   "execution_count": 19,
   "metadata": {},
   "outputs": [],
   "source": [
    "atol = 1E-3\n",
    "r = np.linspace(radius-0.5*(1-atol)*thickness,\n",
    "                radius+0.5*(1-atol)*thickness, num=100)\n",
    "theta = np.pi/3.\n",
    "xy = r[..., None]*[np.cos(theta), np.sin(theta)]\n",
    "u_r_ref = A*r+B/r"
   ]
  },
  {
   "cell_type": "code",
   "execution_count": 20,
   "metadata": {},
   "outputs": [],
   "source": [
    "u.set_allow_extrapolation(True)\n",
    "u_r_fem = np.empty_like(xy[..., 0])\n",
    "for k in range(xy.shape[0]):\n",
    "    u_r_fem[k] = np.linalg.norm(u(xy[k]))"
   ]
  },
  {
   "cell_type": "code",
   "execution_count": 21,
   "metadata": {},
   "outputs": [
    {
     "data": {
      "image/png": "[encoded data removed]",
      "text/plain": [
       "<matplotlib.figure.Figure at 0x7fbf4cdc9160>"
      ]
     },
     "metadata": {},
     "output_type": "display_data"
    }
   ],
   "source": [
    "plt.plot(r, u_r_ref, label='Exact')\n",
    "plt.plot(r, u_r_fem, '+', label='FEM')\n",
    "plt.xlabel('$r$')\n",
    "plt.ylabel('$u_r$')\n",
    "plt.legend();"
   ]
  },
  {
   "cell_type": "markdown",
   "metadata": {},
   "source": [
    "We can also represent the exact solution as an expression, to interpolate on the FE mesh"
   ]
  },
  {
   "cell_type": "code",
   "execution_count": 22,
   "metadata": {},
   "outputs": [],
   "source": [
    "degree = 4\n",
    "r_ = dolfin.Expression(\"sqrt(pow(x[0],2)+pow(x[1],2))\",degree=degree)\n",
    "theta_ = dolfin.Expression(\"atan2(x[1],x[0])\",degree=degree)\n",
    "u_r_ref = dolfin.Expression(\"A*r+B/r\",r=r_,theta=theta_,A=A,B=B,degree=degree)\n",
    "u_ref = dolfin.Expression((\"u*cos(theta)\",\"u*sin(theta)\"),u=u_r_ref,theta=theta_,degree=degree)"
   ]
  },
  {
   "cell_type": "markdown",
   "metadata": {},
   "source": [
    "and calculate the L2 norm of the error w.r.t the FE solution. We refer to section 5.5 of the FEniCS tutorial for further details on computing the norm of the error"
   ]
  },
  {
   "cell_type": "code",
   "execution_count": 24,
   "metadata": {},
   "outputs": [
    {
     "name": "stdout",
     "output_type": "stream",
     "text": [
      "The L2 % error is  0.11849155993\n"
     ]
    }
   ],
   "source": [
    "error_L2 = dolfin.errornorm(u_ref,u,'L2')\n",
    "u_norm = np.sqrt(dolfin.assemble(dolfin.inner(u,u)*dolfin.dx))\n",
    "print(\"The L2 % error is \", error_L2/u_norm*100)"
   ]
  },
  {
   "cell_type": "markdown",
   "metadata": {},
   "source": [
    "There is an excellent agreement between the exact and numerical solutions. In order to get more quantitative results (in particular, in order to estimate the convergence rate), we first need to factor the above code into a single class, that can be called with various values of, e.g., the mesh refinement. This will be done in the next notebook **TODO: add link**."
   ]
  }
 ],
 "metadata": {
  "kernelspec": {
   "display_name": "Python 3",
   "language": "python",
   "name": "python3"
  },
  "language_info": {
   "codemirror_mode": {
    "name": "ipython",
    "version": 3
   },
   "file_extension": ".py",
   "mimetype": "text/x-python",
   "name": "python",
   "nbconvert_exporter": "python",
   "pygments_lexer": "ipython3",
   "version": "3.6.6"
  }
 },
 "nbformat": 4,
 "nbformat_minor": 2
}
