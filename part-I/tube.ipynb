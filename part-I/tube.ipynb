{
 "cells": [
  {
   "cell_type": "markdown",
   "metadata": {},
   "source": [
    "# Convergence analysis of finite element solutions"
   ]
  },
  {
   "cell_type": "markdown",
   "metadata": {},
   "source": [
    "This notebook draws heavily from the article [Axisymmetric formulation for elastic structures of revolution](https://comet-fenics.readthedocs.io/en/latest/demo/elasticity/axisymmetric_elasticity.html#Axisymmetric-formulation-for-elastic-structures-of-revolution) by J. Bleyer."
   ]
  },
  {
   "cell_type": "code",
   "execution_count": null,
   "metadata": {},
   "outputs": [],
   "source": [
    "import matplotlib.pyplot as plt\n",
    "import numpy as np\n",
    "\n",
    "import mshr\n",
    "import dolfin"
   ]
  },
  {
   "cell_type": "code",
   "execution_count": null,
   "metadata": {},
   "outputs": [],
   "source": [
    "%matplotlib inline"
   ]
  },
  {
   "cell_type": "code",
   "execution_count": null,
   "metadata": {},
   "outputs": [],
   "source": [
    "plt.rcParams['figure.figsize']=(12, 8)"
   ]
  },
  {
   "cell_type": "markdown",
   "metadata": {},
   "source": [
    "## Parameters of the simulation"
   ]
  },
  {
   "cell_type": "markdown",
   "metadata": {},
   "source": [
    "The cylinder is defined by its mean radius, $R$, and its thickness $h$. In cylindrical coordinates $(r, \\theta, z)$, the domain is therefore defined by $R-h/2\\leq r\\leq R+h/2$."
   ]
  },
  {
   "cell_type": "code",
   "execution_count": null,
   "metadata": {},
   "outputs": [],
   "source": [
    "radius = 1.\n",
    "thickness = radius/20.0"
   ]
  },
  {
   "cell_type": "markdown",
   "metadata": {},
   "source": [
    "Change the following parameter if you wish to refine the mesh."
   ]
  },
  {
   "cell_type": "markdown",
   "metadata": {},
   "source": [
    "**@Corrado: please explain the `resolution` parameter in the `mshr.generate_mesh` function.**"
   ]
  },
  {
   "cell_type": "code",
   "execution_count": null,
   "metadata": {},
   "outputs": [],
   "source": [
    "element_size = thickness/5\n",
    "resolution = 1000 # What's this?????"
   ]
  },
  {
   "cell_type": "markdown",
   "metadata": {},
   "source": [
    "## Mesh generation"
   ]
  },
  {
   "cell_type": "markdown",
   "metadata": {},
   "source": [
    "The `mshr` module uses the [Constructive Geometry](https://en.wikipedia.org/wiki/Constructive_solid_geometry) paradigm. The whole cross-section of the cylinder is therefore defined as the difference of the disk with radius $(r+h/2)$ and the disk with radius $(r+h/2)$.\n",
    "\n",
    "Owing to symmetries, it is sufficient to model the upper-right quarter of the cross-section. We therefore subtract the top-left quadrant, and the rectangle made of the two lower quadrants."
   ]
  },
  {
   "cell_type": "code",
   "execution_count": null,
   "metadata": {},
   "outputs": [],
   "source": [
    "r_out = radius+0.5*thickness\n",
    "r_in = radius-0.5*thickness\n",
    "\n",
    "p0 = dolfin.Point(0., 0.)\n",
    "p1 = dolfin.Point(-r_out, r_out)\n",
    "p2 = dolfin.Point(-r_out, -r_out)\n",
    "p3 = dolfin.Point(r_out, 0)\n",
    "\n",
    "num_elements = int(2*np.pi*r_out/element_size)\n",
    "\n",
    "domain = (mshr.Circle(p0, r_out, num_elements) -\n",
    "          mshr.Circle(p0, r_in, num_elements) -\n",
    "          mshr.Rectangle(p0, p1) -\n",
    "          mshr.Rectangle(p2, p3))\n",
    "mesh = mshr.generate_mesh(domain, resolution)"
   ]
  },
  {
   "cell_type": "code",
   "execution_count": null,
   "metadata": {},
   "outputs": [],
   "source": [
    "dolfin.plot(mesh);"
   ]
  },
  {
   "cell_type": "markdown",
   "metadata": {},
   "source": [
    "## Boundary indicators"
   ]
  },
  {
   "cell_type": "code",
   "execution_count": null,
   "metadata": {},
   "outputs": [],
   "source": [
    "tol = 1E-14\n",
    "\n",
    "inner = dolfin.CompiledSubDomain('hypot(x[0], x[1]) <= r_in+tol', tol=tol, r_in=radius-0.5*thickness)\n",
    "outer = dolfin.CompiledSubDomain('hypot(x[0], x[1]) >= r_out+tol', tol=tol, r_out=radius+0.5*thickness)\n",
    "left = dolfin.CompiledSubDomain('x[0] <= tol', tol=tol)\n",
    "bottom = dolfin.CompiledSubDomain('x[1] <= tol', tol=tol)"
   ]
  },
  {
   "cell_type": "code",
   "execution_count": null,
   "metadata": {},
   "outputs": [],
   "source": [
    "facets = dolfin.MeshFunction('size_t', mesh, 1)\n",
    "facets.set_all(0)\n",
    "bottom.mark(facets, 1)\n",
    "outer.mark(facets, 2)\n",
    "left.mark(facets, 3)\n",
    "inner.mark(facets, 4)"
   ]
  },
  {
   "cell_type": "markdown",
   "metadata": {},
   "source": [
    "## Strain-displacement operator"
   ]
  },
  {
   "cell_type": "markdown",
   "metadata": {},
   "source": [
    "In 2D elasticity, the spatial coordinates are $x=$ `x[0]` and $y=$ `x[1]`."
   ]
  },
  {
   "cell_type": "code",
   "execution_count": null,
   "metadata": {},
   "outputs": [],
   "source": [
    "x = dolfin.SpatialCoordinate(mesh)"
   ]
  },
  {
   "cell_type": "code",
   "execution_count": null,
   "metadata": {},
   "outputs": [],
   "source": [
    "def eps(u):\n",
    "    return dolfin.sym(dolfin.grad(u))"
   ]
  },
  {
   "cell_type": "markdown",
   "metadata": {},
   "source": [
    "## Stress-strain operator"
   ]
  },
  {
   "cell_type": "markdown",
   "metadata": {},
   "source": [
    "The stress-strain operator defined below corresponds to plane strain elasticity"
   ]
  },
  {
   "cell_type": "code",
   "execution_count": null,
   "metadata": {},
   "outputs": [],
   "source": [
    "E, nu = dolfin.Constant(1.), dolfin.Constant(0.3)\n",
    "mu = E/2./(1.+nu)\n",
    "lmbda = 2.*mu*nu/(1.-2.*nu)"
   ]
  },
  {
   "cell_type": "code",
   "execution_count": null,
   "metadata": {},
   "outputs": [],
   "source": [
    "I2 = dolfin.Identity(2)"
   ]
  },
  {
   "cell_type": "code",
   "execution_count": null,
   "metadata": {},
   "outputs": [],
   "source": [
    "def sig(epsilon):\n",
    "    return  2.*mu*epsilon+lmbda*dolfin.tr(epsilon)*I2"
   ]
  },
  {
   "cell_type": "markdown",
   "metadata": {},
   "source": [
    "## Variational formulation"
   ]
  },
  {
   "cell_type": "code",
   "execution_count": null,
   "metadata": {},
   "outputs": [],
   "source": [
    "p_out = dolfin.Constant(0.)\n",
    "p_in = dolfin.Constant(1.)"
   ]
  },
  {
   "cell_type": "code",
   "execution_count": null,
   "metadata": {},
   "outputs": [],
   "source": [
    "element = dolfin.VectorElement('P', dolfin.triangle, degree=1, dim=2)\n",
    "V = dolfin.FunctionSpace(mesh, element)\n",
    "u = dolfin.TrialFunction(V)\n",
    "v = dolfin.TestFunction(V)"
   ]
  },
  {
   "cell_type": "code",
   "execution_count": null,
   "metadata": {},
   "outputs": [],
   "source": [
    "ds = dolfin.Measure(\"ds\", subdomain_data=facets)\n",
    "n = dolfin.FacetNormal(mesh)\n",
    "\n",
    "a = dolfin.inner(sig(eps(u)), eps(v))*dolfin.dx \n",
    "L = dolfin.inner(-p_in*n, v)*ds(4)+dolfin.inner(-p_out*n, v)*ds(2)"
   ]
  },
  {
   "cell_type": "markdown",
   "metadata": {},
   "source": [
    "## Boundary conditions"
   ]
  },
  {
   "cell_type": "markdown",
   "metadata": {},
   "source": [
    "Both $xx$ and $yy$ axes are axes of symmetry."
   ]
  },
  {
   "cell_type": "code",
   "execution_count": null,
   "metadata": {},
   "outputs": [],
   "source": [
    "bcs = [dolfin.DirichletBC(V.sub(0), 0., left),\n",
    "       dolfin.DirichletBC(V.sub(1), 0., bottom)]"
   ]
  },
  {
   "cell_type": "code",
   "execution_count": null,
   "metadata": {},
   "outputs": [],
   "source": [
    "u = dolfin.Function(V)\n",
    "problem = dolfin.LinearVariationalProblem(a, L, u, bcs)\n",
    "solver = dolfin.LinearVariationalSolver(problem)\n",
    "solver.solve()"
   ]
  },
  {
   "cell_type": "code",
   "execution_count": null,
   "metadata": {},
   "outputs": [],
   "source": [
    "dolfin.plot(1E-4*u, mode = \"displacement\")"
   ]
  },
  {
   "cell_type": "code",
   "execution_count": null,
   "metadata": {},
   "outputs": [],
   "source": [
    "atol = 1E-3\n",
    "r = np.linspace(radius-0.5*(1-atol)*thickness,\n",
    "                radius+0.5*(1-atol)*thickness, num=100)\n",
    "theta = np.pi/3.\n",
    "xy = r[..., None]*[np.cos(theta), np.sin(theta)]"
   ]
  },
  {
   "cell_type": "code",
   "execution_count": null,
   "metadata": {},
   "outputs": [],
   "source": [
    "u_r = np.empty_like(xy[..., 0])\n",
    "for k in range(xy.shape[0]):\n",
    "    u_r[k] = np.linalg.norm(u(xy[k]))"
   ]
  },
  {
   "cell_type": "code",
   "execution_count": null,
   "metadata": {},
   "outputs": [],
   "source": [
    "plt.plot(r, u_r)"
   ]
  }
 ],
 "metadata": {
  "kernelspec": {
   "display_name": "Python 3",
   "language": "python",
   "name": "python3"
  },
  "language_info": {
   "codemirror_mode": {
    "name": "ipython",
    "version": 3
   },
   "file_extension": ".py",
   "mimetype": "text/x-python",
   "name": "python",
   "nbconvert_exporter": "python",
   "pygments_lexer": "ipython3",
   "version": "3.6.6"
  }
 },
 "nbformat": 4,
 "nbformat_minor": 2
}
