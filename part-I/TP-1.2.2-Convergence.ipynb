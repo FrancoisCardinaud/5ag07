{
 "cells": [
  {
   "cell_type": "markdown",
   "metadata": {},
   "source": [
    "# Convergence analysis of a linear elastic solution"
   ]
  },
  {
   "cell_type": "markdown",
   "metadata": {},
   "source": [
    "We require an independent work, to perform a convergence analysis of the solution of a linear ealstic problem. We give an example to start with in the notebook \n",
    "`TP-1.2.1-PlaneStrainCylinder.ipynb`"
   ]
  },
  {
   "cell_type": "markdown",
   "metadata": {},
   "source": [
    "1. Fill the gaps, run, and understand the notebook `TP-1.2.1-PlaneStrainCylinder.ipynb`\n",
    "\n",
    "Now in this notebook:\n",
    "\n",
    "2. Write a function solving the problem, with the following signature. Test it\n",
    "\n",
    "    ```python\n",
    "    pars_fe = {\"thickness\": 0.5, \"degree\": 1, \"nu\": 0.3}\n",
    "    def fe_solution(element_size,pars_fe):\n",
    "        PUT HERE YOUR CODE\n",
    "    return usol\n",
    "    ```\n",
    "  \n",
    "\n",
    "3. Write a function returning the analytical solution of the problem\n",
    "    ```python\n",
    "    pars_ex = {\"thickness\": 0.5, \"nu\": 0.3, \"pin\": 1., \"pout\": 0}\n",
    "    def exact_solution(degree,pars_ex):\n",
    "        PUT HERE YOUR CODE\n",
    "        return dolfin.Expression((\"u_r*cos(theta)\", \"u_r*sin(theta)\"),\n",
    "                                 u_r=u_r, theta=theta, degree=degree)\n",
    "    ```\n",
    "3. Perform a convergence analysis, following as example the notebook `1.4-Error-Convergence.ipynb`. Check if you obtain the convergence rate in  `L2` and `H1` norm for `P1` and `P2` elements. Summarize the result in a loglog plot and compare to the convergence rate predicted by the theory\n",
    "\n",
    "4. Suppose now that you do not known the analytical solution, as it happens in most cases. Try to produce a convergence analysis in this case. We suggest also reading https://classes.engineering.wustl.edu/2009/fall/mase5510/Chapters_12.pdf"
   ]
  },
  {
   "cell_type": "code",
   "execution_count": null,
   "metadata": {},
   "outputs": [],
   "source": []
  }
 ],
 "metadata": {
  "kernelspec": {
   "display_name": "Python 3",
   "language": "python",
   "name": "python3"
  },
  "language_info": {
   "codemirror_mode": {
    "name": "ipython",
    "version": 3
   },
   "file_extension": ".py",
   "mimetype": "text/x-python",
   "name": "python",
   "nbconvert_exporter": "python",
   "pygments_lexer": "ipython3",
   "version": "3.6.6"
  }
 },
 "nbformat": 4,
 "nbformat_minor": 2
}
