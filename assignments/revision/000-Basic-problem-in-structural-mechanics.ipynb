{
 "cells": [
  {
   "cell_type": "markdown",
   "metadata": {},
   "source": [
    "# Elastic ring (_formule du chaudronnier_)\n",
    "\n",
    "Consider a ring of radius $R$ and thickness $t$ made of a linear elastic material loaded by an internal pressur $p_\\mathrm{int}=p_\\mathrm{ext}+p$, where $p_ext$ is the external pressure. \n",
    "\n",
    "1. Calculate the stress in the ring.\n",
    "2. Calculate the radial displacement of the ring."
   ]
  },
  {
   "cell_type": "markdown",
   "metadata": {},
   "source": [
    "# Holed plate\n",
    "\n",
    "Consider a linear elastic plate of length $L$,  width $W$, and thickness $H$ with a hole of radius $R$ loaded by a stress by a traction stress $\\sigma_{\\infty}$ at the left and rigth ends $x=\\pm L/2$. What is the maximum value of the stress in the material and where is it attained? "
   ]
  },
  {
   "cell_type": "markdown",
   "metadata": {},
   "source": [
    "# Beam bending\n",
    "\n",
    "Consider a cantilever beam of length $L$, thickess $t$, mass density per unit of volume $\\rho$ and depth $d$ made of a linear elastic material of Young modulus $E$ and Poisson ratio $\\nu$. Let us dnote by $u_L$ the displacement at the free end.\n",
    "\n",
    "1. Answer the following withouth doing calculations:\n",
    "\n",
    "    1. Does $u_L$ depend on the Poisson ratio? If yes, is the dependence linear, quadratic or cubic (e.g. $u_L\\propto \\nu^\\alpha$ with $\\alpha=1,2,3$)? \n",
    "\n",
    "    2. Does $u_L$ depend on the Young modulus? If yes, is the dependence linear, quadratic or cubic?\n",
    "\n",
    "    3. Does $u_L$ depend on the the length? If yes, is the dependence linear, quadratic or cubic?\n",
    "\n",
    "    4. Does $u_L$ depend on the the depth? If yes, is the dependence linear, quadratic or cubic?\n",
    "\n",
    "    5. Does $u_L$ depend on the the thickness? If yes, is the dependence linear, quadratic or cubic?\n",
    "\n",
    "\n",
    "2. Draw the diagrams for the traction $N$, the shear $T$, and the bending moment $M$ as a function of the the distance from the clamped end. \n",
    "\n",
    "3. Perform the full calculation using beam theory and give the explicit analytic formula for $u_L$.\n",
    "\n",
    "4. Using a paper sheet and cutting pieces of the sheet, perform experiments to validate experimentally the dependence of $u_L$ on $L$. Compare analytical and experimental results.\n",
    "\n",
    "5. Plot the through-the-thickness distribution of the axial stress $\\sigma_{xx}$, $x$ being the axial direction.\n",
    "\n",
    "6. Give the maximal stress in the structure and the point where this maximal value is attained. \n"
   ]
  },
  {
   "cell_type": "code",
   "execution_count": null,
   "metadata": {},
   "outputs": [],
   "source": []
  }
 ],
 "metadata": {
  "kernelspec": {
   "display_name": "Python 3",
   "language": "python",
   "name": "python3"
  },
  "language_info": {
   "codemirror_mode": {
    "name": "ipython",
    "version": 3
   },
   "file_extension": ".py",
   "mimetype": "text/x-python",
   "name": "python",
   "nbconvert_exporter": "python",
   "pygments_lexer": "ipython3",
   "version": "3.7.0"
  }
 },
 "nbformat": 4,
 "nbformat_minor": 2
}
